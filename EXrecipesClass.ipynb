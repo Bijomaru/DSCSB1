{
 "metadata": {
  "language_info": {
   "codemirror_mode": {
    "name": "ipython",
    "version": 3
   },
   "file_extension": ".py",
   "mimetype": "text/x-python",
   "name": "python",
   "nbconvert_exporter": "python",
   "pygments_lexer": "ipython3",
   "version": "3.8.3-final"
  },
  "orig_nbformat": 2,
  "kernelspec": {
   "name": "python3",
   "display_name": "Python 3.8.3 64-bit (conda)",
   "metadata": {
    "interpreter": {
     "hash": "39c9a9e684396029fa370fa384fa94292875d32367b3275c2c64de45029e0792"
    }
   }
  }
 },
 "nbformat": 4,
 "nbformat_minor": 2,
 "cells": [
  {
   "cell_type": "code",
   "execution_count": 2,
   "metadata": {},
   "outputs": [],
   "source": [
    "import requests\n",
    "from utilities import utilities "
   ]
  },
  {
   "cell_type": "code",
   "execution_count": 112,
   "metadata": {},
   "outputs": [],
   "source": [
    "class Recipes:\n",
    "    \"\"\"\n",
    "    A class used to get recipes from spoonocular and their steps\n",
    "    \n",
    "    \"\"\"\n",
    "    def recipesList(diet, number):\n",
    "        \"\"\"\n",
    "        A method to search the recipes on spoonocular\n",
    "\n",
    "        Parameters\n",
    "        ----------\n",
    "        diet is one of the diets in the list from soppocular \n",
    "        https://spoonacular.com/food-api/docs#Diets\n",
    "        \n",
    "        number is the number of recipes to show in the results\n",
    "\n",
    "        TODO test the value given in diet to fit the possible values\n",
    "        TODO test the value in number to be always a string\n",
    "        TODO implement other searchs parameters\n",
    "\n",
    "        \"\"\"\n",
    "        \n",
    "        response = requests.get('https://api.spoonacular.com/recipes/complexSearch?apiKey='\n",
    "                                + utilities.spoonKey \n",
    "                                + '&query=' \n",
    "                                + '&diet=' + diet \n",
    "                                + \"&number=\" + str(number)\n",
    "                                )\n",
    "        # print(response.json())\n",
    "        return response.json()['results']\n",
    "\n",
    "\n",
    "\n",
    "\n",
    "    def recipeIngredients(recipeID):\n",
    "        \"\"\"\n",
    "        Method to get a list of ingredient based on the ID of the recipe\n",
    "\n",
    "        Parameters\n",
    "        ----------\n",
    "        recipeID is the ID that indentify the recipe, this ID should be input by the user\n",
    "        \"\"\"\n",
    "        response = requests.get('https://api.spoonacular.com/recipes/'\n",
    "                                +str(recipeID) \n",
    "                                +'/ingredientWidget.json'\n",
    "                                +'?apiKey=' + utilities.spoonKey\n",
    "                                )\n",
    "        return response.json()['ingredients']\n",
    "\n",
    "    \n",
    "    def allRecipeSteps(recipeID):\n",
    "        \"\"\"\n",
    "        Method to get all the recipes steps\n",
    "\n",
    "        Parameters\n",
    "        ----------\n",
    "        recipeID ID that indentify the recipe\n",
    "        \"\"\"\n",
    "        response= requests.get('https://api.spoonacular.com/recipes/'\n",
    "        + str(recipeID)\n",
    "        +'/analyzedInstructions'\n",
    "        +'?apiKey=' + utilities.spoonKey\n",
    "        )\n",
    "        return response.json()[0]['steps']\n"
   ]
  }
 ]
}